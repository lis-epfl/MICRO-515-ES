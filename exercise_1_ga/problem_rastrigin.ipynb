{
 "cells": [
  {
   "cell_type": "markdown",
   "id": "82dc93e4-b465-4d64-999f-cc634a46856d",
   "metadata": {
    "execution": {
     "iopub.execute_input": "2024-02-13T20:46:51.386846Z",
     "iopub.status.busy": "2024-02-13T20:46:51.385948Z",
     "iopub.status.idle": "2024-02-13T20:46:51.399514Z",
     "shell.execute_reply": "2024-02-13T20:46:51.396518Z",
     "shell.execute_reply.started": "2024-02-13T20:46:51.386770Z"
    },
    "tags": []
   },
   "source": [
    "# Problem: Rastrigin function"
   ]
  },
  {
   "cell_type": "markdown",
   "id": "c1e79278-4f2f-4ac7-840f-3325b98f10b3",
   "metadata": {
    "tags": []
   },
   "source": [
    "## Import libraries"
   ]
  },
  {
   "cell_type": "code",
   "execution_count": null,
   "id": "d760645c-827c-44d4-8fa8-57839bcf618a",
   "metadata": {
    "execution": {
     "iopub.execute_input": "2024-02-16T09:26:35.161533Z",
     "iopub.status.busy": "2024-02-16T09:26:35.160952Z",
     "iopub.status.idle": "2024-02-16T09:26:35.681800Z",
     "shell.execute_reply": "2024-02-16T09:26:35.680611Z",
     "shell.execute_reply.started": "2024-02-16T09:26:35.161480Z"
    },
    "tags": []
   },
   "outputs": [],
   "source": [
    "# Surpresses printing from other notebook\n",
    "import io\n",
    "import sys\n",
    "\n",
    "original_stdout = sys.stdout\n",
    "sys.stdout = io.StringIO()\n",
    "%run genetic_algorithm.ipynb\n",
    "sys.stdout = original_stdout"
   ]
  },
  {
   "cell_type": "code",
   "execution_count": null,
   "id": "fe4a4e76-a49b-4ecf-84bc-952f10b06972",
   "metadata": {
    "execution": {
     "iopub.execute_input": "2024-02-16T09:26:35.684517Z",
     "iopub.status.busy": "2024-02-16T09:26:35.684098Z",
     "iopub.status.idle": "2024-02-16T09:26:36.064611Z",
     "shell.execute_reply": "2024-02-16T09:26:36.063447Z",
     "shell.execute_reply.started": "2024-02-16T09:26:35.684486Z"
    },
    "tags": []
   },
   "outputs": [],
   "source": [
    "import numpy as np\n",
    "import random\n",
    "import matplotlib.patches as mpatches\n",
    "from scipy.spatial.distance import pdist, squareform"
   ]
  },
  {
   "cell_type": "code",
   "execution_count": null,
   "id": "a5a8a7e6-8098-44de-bf6f-798479846f2e",
   "metadata": {
    "execution": {
     "iopub.execute_input": "2024-02-16T09:26:36.066101Z",
     "iopub.status.busy": "2024-02-16T09:26:36.065769Z",
     "iopub.status.idle": "2024-02-16T09:26:38.184431Z",
     "shell.execute_reply": "2024-02-16T09:26:38.183177Z",
     "shell.execute_reply.started": "2024-02-16T09:26:36.066076Z"
    },
    "tags": []
   },
   "outputs": [],
   "source": [
    "from PIL import Image\n",
    "import matplotlib.pyplot as plt\n",
    "from IPython.display import display, clear_output\n",
    "from io import BytesIO\n",
    "from ipywidgets import widgets\n",
    "from matplotlib.colors import Normalize\n",
    "import seaborn as sns\n",
    "\n",
    "np.set_printoptions(precision=4, suppress=True)  # for better printing\n",
    "sns.set_style(\"darkgrid\")"
   ]
  },
  {
   "cell_type": "code",
   "execution_count": null,
   "id": "7aedb2cb-8315-4002-9765-9ccb8f1a0a01",
   "metadata": {
    "execution": {
     "iopub.execute_input": "2024-02-16T09:26:38.186031Z",
     "iopub.status.busy": "2024-02-16T09:26:38.185270Z",
     "iopub.status.idle": "2024-02-16T09:26:39.173496Z",
     "shell.execute_reply": "2024-02-16T09:26:39.171616Z",
     "shell.execute_reply.started": "2024-02-16T09:26:38.186002Z"
    },
    "tags": []
   },
   "outputs": [],
   "source": [
    "def f_rastrigin(x, y):\n",
    "    return 80 - (\n",
    "        200.0 + x**2 + y**2 - 3.0 * (np.cos(2 * np.pi * x) + np.cos(2 * np.pi * y))\n",
    "    )\n",
    "\n",
    "\n",
    "r_min, r_max = -5.0, 5.0\n",
    "xaxis = np.arange(r_min, r_max, 0.01)\n",
    "yaxis = np.arange(r_min, r_max, 0.01)\n",
    "x, y = np.meshgrid(xaxis, yaxis)\n",
    "\n",
    "results = f_rastrigin(x, y)\n",
    "\n",
    "fig = plt.figure(figsize=(10, 6))\n",
    "ax = fig.add_subplot(projection=\"3d\")\n",
    "ax.patch.set_facecolor(\"white\")\n",
    "surf = ax.plot_surface(x, y, results, cmap=\"jet\", edgecolor=\"none\")\n",
    "ax.set_xlabel(\"x [-]\")\n",
    "ax.set_ylabel(\"y [-]\")\n",
    "ax.set_zlabel(\"Fitness [-]\")\n",
    "plt.show()"
   ]
  },
  {
   "cell_type": "markdown",
   "id": "6b30bd22-4470-48fb-9739-5b768a2db49c",
   "metadata": {},
   "source": [
    "## Evaluation function\n",
    "We decode our binary genetic representation to a real-valued phenotype. In our case from the binary string with arbitrary length to two real-valued numbers. Here, we use the binary system and map it to the value space to calculate a real-valued number. With more chromosomes, we can reach a higher precision.\n",
    "\n",
    "> **Note**: We use this mapping out of convience for this exercise. GA could learn - theoretically - arbitrary bijective mappings."
   ]
  },
  {
   "cell_type": "code",
   "execution_count": null,
   "id": "9b090e6a-e468-4a4a-88f2-77413f12d9c0",
   "metadata": {
    "execution": {
     "iopub.execute_input": "2024-02-16T09:26:39.175326Z",
     "iopub.status.busy": "2024-02-16T09:26:39.175047Z",
     "iopub.status.idle": "2024-02-16T09:26:39.184014Z",
     "shell.execute_reply": "2024-02-16T09:26:39.182808Z",
     "shell.execute_reply.started": "2024-02-16T09:26:39.175300Z"
    },
    "tags": []
   },
   "outputs": [],
   "source": [
    "def decode_chromosomes(chromosome):\n",
    "    lb_x, ub_x = -5, 5\n",
    "    lb_y, ub_y = -5, 5\n",
    "\n",
    "    len_half = len(chromosome) // 2\n",
    "    chrom_x = chromosome[:len_half]\n",
    "    chrom_y = chromosome[len_half:]\n",
    "\n",
    "    # Calculate the precision\n",
    "    precision_x = (ub_x - lb_x) / ((2**len_half) - 1)\n",
    "    precision_y = (ub_y - lb_y) / ((2**len_half) - 1)\n",
    "\n",
    "    # Convert binary arrays to integers using dot product for efficient computation\n",
    "    x_int = np.dot(chrom_x, 2 ** np.arange(len_half)[::-1])\n",
    "    y_int = np.dot(chrom_y, 2 ** np.arange(len_half)[::-1])\n",
    "\n",
    "    # Scale the integers to the desired range\n",
    "    x = (x_int * precision_x) + lb_x\n",
    "    y = (y_int * precision_y) + lb_y\n",
    "\n",
    "    return x, y"
   ]
  },
  {
   "cell_type": "code",
   "execution_count": null,
   "id": "6dea11df-d651-429a-8e38-7212bc3f8a6f",
   "metadata": {
    "execution": {
     "iopub.execute_input": "2024-02-16T09:26:39.185850Z",
     "iopub.status.busy": "2024-02-16T09:26:39.185526Z",
     "iopub.status.idle": "2024-02-16T09:26:39.277000Z",
     "shell.execute_reply": "2024-02-16T09:26:39.274465Z",
     "shell.execute_reply.started": "2024-02-16T09:26:39.185821Z"
    },
    "tags": []
   },
   "outputs": [],
   "source": [
    "# Test function:\n",
    "population = generate_initial_population(5, 100)\n",
    "\n",
    "chromosome = population[0, :]\n",
    "print(f\"Chromosome encoding:\\n{chromosome}\")\n",
    "print(f\"Real-value:\\n{decode_chromosomes(chromosome)}\")"
   ]
  },
  {
   "cell_type": "markdown",
   "id": "0e9fa7f5-f2b1-4f92-8398-1fc124f1de74",
   "metadata": {},
   "source": [
    "After decoding, we can evaluate as usally."
   ]
  },
  {
   "cell_type": "code",
   "execution_count": null,
   "id": "1bd6a258-c14e-4b63-b30f-cd67a39933a8",
   "metadata": {
    "execution": {
     "iopub.execute_input": "2024-02-16T09:26:39.283854Z",
     "iopub.status.busy": "2024-02-16T09:26:39.283044Z",
     "iopub.status.idle": "2024-02-16T09:26:39.418046Z",
     "shell.execute_reply": "2024-02-16T09:26:39.415662Z",
     "shell.execute_reply.started": "2024-02-16T09:26:39.283784Z"
    },
    "tags": []
   },
   "outputs": [],
   "source": [
    "def f_rastrigin(x, y):\n",
    "    fitness = 80 - (\n",
    "        200.0 + x**2 + y**2 - 3.0 * (np.cos(2 * np.pi * x) + np.cos(2 * np.pi * y))\n",
    "    )\n",
    "    return fitness\n",
    "\n",
    "\n",
    "print(f\"Maximum {f_rastrigin(0, 0)} at (0, 0)\")"
   ]
  },
  {
   "cell_type": "code",
   "execution_count": null,
   "id": "68edd93a-13dd-4d0b-b809-688c3d5b3deb",
   "metadata": {
    "execution": {
     "iopub.execute_input": "2024-02-16T09:26:39.421483Z",
     "iopub.status.busy": "2024-02-16T09:26:39.420608Z",
     "iopub.status.idle": "2024-02-16T09:26:39.594889Z",
     "shell.execute_reply": "2024-02-16T09:26:39.592469Z",
     "shell.execute_reply.started": "2024-02-16T09:26:39.421409Z"
    },
    "tags": []
   },
   "outputs": [],
   "source": [
    "def evaluate_population_rastrigin(population):\n",
    "    population_size = population.shape[0]\n",
    "    fitness = np.zeros((population_size,))\n",
    "\n",
    "    for i in range(population_size):\n",
    "        chromosomes = population[i, :]\n",
    "        x, y = decode_chromosomes(chromosomes)\n",
    "        fitness[i] = f_rastrigin(x, y)\n",
    "\n",
    "    return fitness"
   ]
  },
  {
   "cell_type": "code",
   "execution_count": null,
   "id": "4144b6dc-42d4-4597-a051-2bc27eea878f",
   "metadata": {
    "execution": {
     "iopub.execute_input": "2024-02-16T09:26:39.598307Z",
     "iopub.status.busy": "2024-02-16T09:26:39.597513Z",
     "iopub.status.idle": "2024-02-16T09:26:39.656656Z",
     "shell.execute_reply": "2024-02-16T09:26:39.654250Z",
     "shell.execute_reply.started": "2024-02-16T09:26:39.598239Z"
    },
    "tags": []
   },
   "outputs": [],
   "source": [
    "# Test function:\n",
    "population = generate_initial_population(20, 100)\n",
    "fitness = evaluate_population_rastrigin(population)\n",
    "print(f\"Fitness: {fitness}\")"
   ]
  },
  {
   "cell_type": "markdown",
   "id": "45a5cfe7-ce51-4989-9bed-7a1d1d4e2e57",
   "metadata": {},
   "source": [
    "## Evolution\n",
    "\n",
    "-------\n",
    "## **Questions**\n",
    "Provide written answers for the following questions:\n",
    "1. Run the GA code using the default parameters and see if the GA finds the global minimum. How many generations does it take to converge?\n",
    "2. How does using mutation alone (`crossover_probability` = 0) and crossover alone (`mutation_probability` = 0) influence the results? What about if you use a small or a large population size?\n",
    "3. What happens if you use a larger magnitude mutation probability (`mutation_probability`)?\n",
    "4. What happens if the tournament size is small (minimal is 2) or large (`tournament_size` must still be less than `population_size`)?\n",
    "5. Turn on the learning schedule by decreasing the `sigma_decay` parameter? How does this influence the diversity of the population?\n",
    "\n",
    "-------"
   ]
  },
  {
   "cell_type": "code",
   "execution_count": null,
   "id": "8240ab14-9ff3-45b3-80ff-675d1fba6cc8",
   "metadata": {
    "execution": {
     "iopub.execute_input": "2024-02-16T09:26:58.116893Z",
     "iopub.status.busy": "2024-02-16T09:26:58.115676Z",
     "iopub.status.idle": "2024-02-16T09:26:58.388767Z",
     "shell.execute_reply": "2024-02-16T09:26:58.386980Z",
     "shell.execute_reply.started": "2024-02-16T09:26:58.116782Z"
    },
    "tags": []
   },
   "outputs": [],
   "source": [
    "# Environment parameters\n",
    "num_generations = 100\n",
    "population_size = 40  # only even numbers!\n",
    "\n",
    "# ES parameters\n",
    "chromosome_length = 30\n",
    "tournament_size = 10\n",
    "crossover_probability = 0.4\n",
    "mutation_probability = 0.15\n",
    "\n",
    "# Learning schedule\n",
    "sigma_decay = 1.0  # [0.0, 1.0]\n",
    "sigma_limit = 0.01\n",
    "\n",
    "# Logging\n",
    "diversity_type = \"hamming\"\n",
    "\n",
    "fitness_log = []\n",
    "diversity_metric = []\n",
    "\n",
    "# Parameter check\n",
    "assert tournament_size < population_size\n",
    "assert 0.0 <= crossover_probability <= 1.0\n",
    "assert 0.0 <= mutation_probability <= 1.0\n",
    "assert 0.0 <= sigma_decay <= 1.0\n",
    "assert 0.0 <= sigma_limit <= 1.0\n",
    "assert population_size % 2 == 0\n",
    "\n",
    "\n",
    "# Control of mutation rate\n",
    "def exp_decay(sigma, sigma_decay, sigma_limit):\n",
    "    sigma = sigma * sigma_decay\n",
    "    return np.max((sigma_limit, sigma))\n",
    "\n",
    "\n",
    "population = generate_initial_population(population_size, chromosome_length)\n",
    "for gen in range(num_generations):\n",
    "    # Evaluate fitness of population\n",
    "    fitness = evaluate_population_rastrigin(population)\n",
    "\n",
    "    # Generate new population\n",
    "    offspring = np.zeros((population_size, chromosome_length))\n",
    "\n",
    "    # \"Survival-of-the-fittest\"\n",
    "    for i in range(int(population_size / 2)):\n",
    "        # Tournament\n",
    "        parent_1 = tournament_selection(population, fitness, tournament_size)\n",
    "        parent_2 = tournament_selection(population, fitness, tournament_size)\n",
    "\n",
    "        child_1, child_2 = stochastic_one_point_crossover(\n",
    "            parent_1, parent_2, crossover_probability\n",
    "        )\n",
    "\n",
    "        offspring[i, :] = child_1\n",
    "        offspring[i + int(population_size / 2), :] = child_2\n",
    "\n",
    "    # Ensure that datatype is fitting\n",
    "    offspring = offspring.astype(int)\n",
    "\n",
    "    # Generation undergoes mutation\n",
    "    mutated_offspring = mutate_genotypes(offspring, mutation_probability)\n",
    "\n",
    "    # Generational Replacement\n",
    "    population = mutated_offspring\n",
    "\n",
    "    # Decaying mutation rate\n",
    "    mutation_probability = exp_decay(mutation_probability, sigma_decay, sigma_limit)\n",
    "\n",
    "    # Logging\n",
    "    fitness_log.append(fitness)\n",
    "    distances = squareform(pdist(offspring, metric=\"hamming\"))\n",
    "    diversity_score = np.sum(distances)\n",
    "\n",
    "    diversity_metric.append(diversity_score)\n",
    "\n",
    "    if gen % 5 == 0:\n",
    "        print(f\"Max fitness at gen {gen}: {max(fitness)}\")"
   ]
  },
  {
   "cell_type": "markdown",
   "id": "6ea1191b-5b5f-47f5-9afd-946813deec17",
   "metadata": {},
   "source": [
    "# Visualise results"
   ]
  },
  {
   "cell_type": "markdown",
   "id": "be174a38-78e7-4cd3-a224-c87dab16cf44",
   "metadata": {},
   "source": [
    "## Fitness Graph"
   ]
  },
  {
   "cell_type": "code",
   "execution_count": null,
   "id": "a9fd7b34-4c20-4e70-b14a-8d252217982b",
   "metadata": {
    "execution": {
     "iopub.execute_input": "2024-02-16T09:27:01.049843Z",
     "iopub.status.busy": "2024-02-16T09:27:01.048788Z",
     "iopub.status.idle": "2024-02-16T09:27:01.434569Z",
     "shell.execute_reply": "2024-02-16T09:27:01.433038Z",
     "shell.execute_reply.started": "2024-02-16T09:27:01.049767Z"
    },
    "tags": []
   },
   "outputs": [],
   "source": [
    "# Calculate mean, min, and max fitness for each generation\n",
    "mean_fitness = np.mean(fitness_log, axis=1)\n",
    "min_fitness = np.min(fitness_log, axis=1)\n",
    "max_fitness = np.max(fitness_log, axis=1)\n",
    "\n",
    "# Generate the generations array\n",
    "generations = np.arange(len(mean_fitness))\n",
    "\n",
    "# Plotting\n",
    "plt.figure(figsize=(8, 5))\n",
    "\n",
    "plt.annotate(\"Optimum\", xy=(0, f_rastrigin(0.0, 0.0)), color=\"#0193d7\")\n",
    "plt.axhline(\n",
    "    y=f_rastrigin(0.0, 0.0),\n",
    "    linestyle=\"dotted\",\n",
    "    linewidth=1.0,\n",
    "    alpha=0.8,\n",
    "    color=\"#0193d7\",\n",
    ")\n",
    "plt.plot(\n",
    "    generations,\n",
    "    mean_fitness,\n",
    "    label=\"Mean Fitness\",\n",
    "    linestyle=\"dashed\",\n",
    "    color=\"#FF0000\",\n",
    "    alpha=0.8,\n",
    ")\n",
    "plt.plot(generations, max_fitness, label=\"Max Fitness\", color=\"#B51F1F\")\n",
    "plt.plot(\n",
    "    generations,\n",
    "    min_fitness,\n",
    "    label=\"Min Fitness\",\n",
    "    linestyle=\"dashed\",\n",
    "    color=\"#ffba4d\",\n",
    "    alpha=0.8,\n",
    ")\n",
    "\n",
    "plt.fill_between(\n",
    "    generations,\n",
    "    min_fitness,\n",
    "    max_fitness,\n",
    "    color=\"#B51F1F\",\n",
    "    alpha=0.2,\n",
    "    label=\"Min-Max Range\",\n",
    ")\n",
    "\n",
    "plt.xlabel(\"Generation\")\n",
    "plt.ylabel(\"Fitness\")\n",
    "plt.legend()\n",
    "plt.grid(True)\n",
    "plt.show()"
   ]
  },
  {
   "cell_type": "markdown",
   "id": "ec7fb353-77f1-4829-b082-9f6a0df38911",
   "metadata": {},
   "source": [
    "## Diversity of genotype using Hamming distance\n",
    "\n",
    "Hamming distance is used in information theory to evaluate the similarity of symbols and is especially useful for binary information. It measures the minimum number of substitutions required to change one string into the other."
   ]
  },
  {
   "cell_type": "code",
   "execution_count": null,
   "id": "d5b7af28-3bd1-4412-9dd3-802db20d839b",
   "metadata": {
    "execution": {
     "iopub.execute_input": "2024-02-16T09:27:05.339498Z",
     "iopub.status.busy": "2024-02-16T09:27:05.338597Z",
     "iopub.status.idle": "2024-02-16T09:27:06.011616Z",
     "shell.execute_reply": "2024-02-16T09:27:06.010267Z",
     "shell.execute_reply.started": "2024-02-16T09:27:05.339426Z"
    },
    "tags": []
   },
   "outputs": [],
   "source": [
    "fig, ax1 = plt.subplots(figsize=(8, 5))\n",
    "\n",
    "# Plotting the diversity data\n",
    "diversity_metric = np.array(diversity_metric)\n",
    "color = \"#46b361\"\n",
    "ax1.set_xlabel(\"Generation\")\n",
    "ax1.set_ylabel(\"Diversity\", color=color)\n",
    "ax1.plot(diversity_metric, color=color, label=\"Diversity (Hamming)\")\n",
    "ax1.tick_params(axis=\"y\", labelcolor=color)\n",
    "\n",
    "# Creating a second y-axis for fitness data\n",
    "max_fitness = np.max(fitness_log, axis=1)\n",
    "mean_fitness = np.mean(fitness_log, axis=1)\n",
    "\n",
    "ax2 = ax1.twinx()\n",
    "color = \"#B51F1F\"\n",
    "ax2.set_ylabel(\"Fitness\", color=color)\n",
    "ax2.plot(max_fitness, color=color, label=\"Max Fitness\")\n",
    "ax2.plot(mean_fitness, color=\"#FF0000\", label=\"Mean Fitness\", alpha=0.3)\n",
    "ax2.tick_params(axis=\"y\", labelcolor=color)\n",
    "\n",
    "# Adding title and grid\n",
    "ax1.grid(False)\n",
    "ax2.grid(True)\n",
    "fig.legend(loc=\"upper right\", bbox_to_anchor=(0.88, 0.8))\n",
    "\n",
    "# Display the plot\n",
    "plt.show()"
   ]
  }
 ],
 "metadata": {
  "kernelspec": {
   "display_name": "Python3",
   "language": "python",
   "name": "python3"
  },
  "language_info": {
   "codemirror_mode": {
    "name": "ipython",
    "version": 3
   },
   "file_extension": ".py",
   "mimetype": "text/x-python",
   "name": "python",
   "nbconvert_exporter": "python",
   "pygments_lexer": "ipython3",
   "version": "3.11.5"
  }
 },
 "nbformat": 4,
 "nbformat_minor": 5
}
