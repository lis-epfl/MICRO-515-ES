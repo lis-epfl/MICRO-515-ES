{
 "cells": [
  {
   "cell_type": "markdown",
   "id": "3e169414-bf69-4d5f-ab01-a30ed1f3cc29",
   "metadata": {},
   "source": [
    "## Imports"
   ]
  },
  {
   "cell_type": "code",
   "execution_count": null,
   "id": "416efd99-4d8d-4408-9a22-ba1fae9969bf",
   "metadata": {
    "execution": {
     "iopub.execute_input": "2024-02-16T09:30:59.924925Z",
     "iopub.status.busy": "2024-02-16T09:30:59.924359Z",
     "iopub.status.idle": "2024-02-16T09:31:00.455345Z",
     "shell.execute_reply": "2024-02-16T09:31:00.454150Z",
     "shell.execute_reply.started": "2024-02-16T09:30:59.924869Z"
    },
    "tags": []
   },
   "outputs": [],
   "source": [
    "# Surpresses printing from other notebook\n",
    "import io\n",
    "import sys\n",
    "\n",
    "original_stdout = sys.stdout\n",
    "sys.stdout = io.StringIO()\n",
    "%run evolution_strategies.ipynb\n",
    "sys.stdout = original_stdout"
   ]
  },
  {
   "cell_type": "code",
   "execution_count": null,
   "id": "2f0fe76d-ea2b-460e-98d4-bc514197b835",
   "metadata": {
    "execution": {
     "iopub.execute_input": "2024-02-16T09:31:00.458521Z",
     "iopub.status.busy": "2024-02-16T09:31:00.458123Z",
     "iopub.status.idle": "2024-02-16T09:31:01.936386Z",
     "shell.execute_reply": "2024-02-16T09:31:01.935179Z",
     "shell.execute_reply.started": "2024-02-16T09:31:00.458495Z"
    },
    "tags": []
   },
   "outputs": [],
   "source": [
    "import time\n",
    "import numpy as np\n",
    "from PIL import Image\n",
    "import matplotlib.pyplot as plt\n",
    "from IPython.display import display, clear_output\n",
    "from io import BytesIO\n",
    "from ipywidgets import widgets\n",
    "from matplotlib.colors import Normalize\n",
    "import seaborn as sns\n",
    "\n",
    "np.set_printoptions(precision=4, suppress=True)  # for better printing\n",
    "sns.set_style(\"darkgrid\")"
   ]
  },
  {
   "cell_type": "markdown",
   "id": "0c00e3b7-8ed6-4559-b15b-c512ea31dfc9",
   "metadata": {},
   "source": [
    "# Problem: Ackley function\n",
    "\n",
    "We use now your algorithm to search for the maximum of the Ackley function. "
   ]
  },
  {
   "cell_type": "code",
   "execution_count": null,
   "id": "0ec4de03-bbc9-4ecc-bb7a-147644a92bb5",
   "metadata": {
    "execution": {
     "iopub.execute_input": "2024-02-16T09:31:01.938016Z",
     "iopub.status.busy": "2024-02-16T09:31:01.937649Z",
     "iopub.status.idle": "2024-02-16T09:31:02.975710Z",
     "shell.execute_reply": "2024-02-16T09:31:02.974370Z",
     "shell.execute_reply.started": "2024-02-16T09:31:01.937990Z"
    },
    "tags": []
   },
   "outputs": [],
   "source": [
    "def f_reversed_ackley(x, y):\n",
    "    return -1 * (\n",
    "        -20.0 * np.exp(-0.2 * np.sqrt(0.5 * (x**2 + y**2)))\n",
    "        - np.exp(0.5 * (np.cos(2 * np.pi * x) + np.cos(2 * np.pi * y)))\n",
    "        + np.e\n",
    "        + 20\n",
    "    )\n",
    "\n",
    "\n",
    "r_min, r_max = -5.0, 5.0\n",
    "xaxis = np.arange(r_min, r_max, 0.01)\n",
    "yaxis = np.arange(r_min, r_max, 0.01)\n",
    "x, y = np.meshgrid(xaxis, yaxis)\n",
    "\n",
    "results = f_reversed_ackley(x, y)\n",
    "\n",
    "fig = plt.figure(figsize=(10, 6))\n",
    "ax = fig.add_subplot(projection=\"3d\")\n",
    "ax.patch.set_facecolor(\"white\")\n",
    "surf = ax.plot_surface(x, y, results, cmap=\"jet\", edgecolor=\"none\")\n",
    "ax.set_xlabel(\"x\")\n",
    "ax.set_ylabel(\"y\")\n",
    "ax.set_zlabel(\"Ackley\")\n",
    "plt.show()"
   ]
  },
  {
   "cell_type": "markdown",
   "id": "f6f14024-048e-465c-8fd4-5185cff92823",
   "metadata": {},
   "source": [
    "## Step 4: Evaluate $\\lambda$ offspring (Ackley function) \n",
    "The evaluation function takes each candidate from the population and infers their fitness."
   ]
  },
  {
   "cell_type": "code",
   "execution_count": null,
   "id": "8bbc887e-6195-446c-9e00-034fd0ae89ca",
   "metadata": {
    "execution": {
     "iopub.execute_input": "2024-02-16T09:31:02.977327Z",
     "iopub.status.busy": "2024-02-16T09:31:02.977046Z",
     "iopub.status.idle": "2024-02-16T09:31:02.984684Z",
     "shell.execute_reply": "2024-02-16T09:31:02.983469Z",
     "shell.execute_reply.started": "2024-02-16T09:31:02.977302Z"
    },
    "tags": []
   },
   "outputs": [],
   "source": [
    "def evaluate_population_ackley(population):\n",
    "    population_size = population.shape[0]\n",
    "    fitness = np.zeros((population_size,))\n",
    "\n",
    "    for i in range(population_size):\n",
    "        x, y = population[i, :]\n",
    "\n",
    "        fitness[i] = f_reversed_ackley(x, y)\n",
    "\n",
    "    return fitness"
   ]
  },
  {
   "cell_type": "code",
   "execution_count": null,
   "id": "51143fc7-13dc-4c8a-9cca-c61e42d62592",
   "metadata": {
    "execution": {
     "iopub.execute_input": "2024-02-16T09:31:02.986984Z",
     "iopub.status.busy": "2024-02-16T09:31:02.986655Z",
     "iopub.status.idle": "2024-02-16T09:31:03.124219Z",
     "shell.execute_reply": "2024-02-16T09:31:03.122049Z",
     "shell.execute_reply.started": "2024-02-16T09:31:02.986954Z"
    },
    "tags": []
   },
   "outputs": [],
   "source": [
    "# Test function:\n",
    "test_population = np.array(\n",
    "    [[1.0, -1.0], [0.23, 0.23], [-2.1, 4.3], [-14.0, 14.0], [0.0, 0.0], [0.3, 0.1]]\n",
    ")\n",
    "\n",
    "fitness = evaluate_population_ackley(test_population)\n",
    "print(fitness)"
   ]
  },
  {
   "cell_type": "markdown",
   "id": "68f95c4f-83b3-4a40-8b78-fec197745dc8",
   "metadata": {},
   "source": [
    "## Run evolution\n",
    "We can use now our implemented functions to run evolution to find our global maximum at 0.0. There are three visualisations prepared for better understanding of the optimization.\n",
    "\n",
    "-------\n",
    "## **Questions**\n",
    "Let us better understand the influence of our parameters for our evolutionary process. \n",
    "1. How does the mutation rate $\\sigma$ `mutation_sigma` influence the rate of convergence when you have a small vs large values?\n",
    "2. Why should the number of parents ($\\mu$) be less than the number of children ($\\sigma$)?\n",
    "3. How does a large $\\mu$/$\\lambda$ ratio influence the convergence rate?\n",
    "4. We can also introduce a learning schedule by a decaying mutation rate. At $1.0$ there is no decay. How do different decay rates influence the learning process?\n",
    "\n",
    "-------\n",
    "\n",
    "## **Challenge for motivated students**\n",
    "The lecture introduces the concept of co-evolving mutation rates. Can you implement a function `co_evolving_mutation_rate` which implements this concept and integrate it in the evolutionary loop?"
   ]
  },
  {
   "cell_type": "code",
   "execution_count": null,
   "id": "5ca7a745-ed9e-4346-aee9-77e3e41ee0f5",
   "metadata": {
    "execution": {
     "iopub.execute_input": "2024-02-16T09:31:03.127818Z",
     "iopub.status.busy": "2024-02-16T09:31:03.127077Z",
     "iopub.status.idle": "2024-02-16T09:31:03.251663Z",
     "shell.execute_reply": "2024-02-16T09:31:03.250367Z",
     "shell.execute_reply.started": "2024-02-16T09:31:03.127750Z"
    },
    "tags": []
   },
   "outputs": [],
   "source": [
    "# Environment parameters\n",
    "num_parameters = 2  # dim of ackley - do not change this.\n",
    "\n",
    "# ES parameters\n",
    "num_generations = 50\n",
    "mutation_sigma = 0.5\n",
    "population_size = 64\n",
    "num_parents = 16\n",
    "\n",
    "sigma_decay = 1.00  # [0.0, 1.0]\n",
    "sigma_limit = 0.01\n",
    "\n",
    "# Logging\n",
    "population_log = []\n",
    "fitness_log = []\n",
    "\n",
    "# Evolution\n",
    "mean_vector = initialise_mean(num_parameters)\n",
    "\n",
    "# Exponential decaying learning rate\n",
    "# works like a learning scheduler\n",
    "def exp_decay(sigma, sigma_decay, sigma_limit):\n",
    "    sigma = sigma * sigma_decay\n",
    "    return np.max((sigma_limit, sigma))\n",
    "\n",
    "# Evolutionary loop\n",
    "for gen in range(num_generations):\n",
    "    population = generate_mutated_offspring(\n",
    "        population_size, mean_vector, mutation_sigma\n",
    "    )\n",
    "    fitness = evaluate_population_ackley(population)\n",
    "\n",
    "    parents_population, parents_fitness = sort_and_select_parents(\n",
    "        population, fitness, num_parents\n",
    "    )\n",
    "    mean_vector = update_population_mean(parents_population, parents_fitness)\n",
    "\n",
    "    # Learning schedule to reduce mutation with time\n",
    "    mutation_sigma = exp_decay(mutation_sigma, sigma_decay, sigma_limit)\n",
    "\n",
    "    # For visualisation\n",
    "    population_log.append(population)\n",
    "    fitness_log.append(fitness)\n",
    "\n",
    "    if gen % 5 == 0:\n",
    "        print(f\"Best fitness in generation {gen}: {np.max(fitness)}\")"
   ]
  },
  {
   "cell_type": "markdown",
   "id": "9cbf3d58-01bb-451d-899d-a6091f35af96",
   "metadata": {},
   "source": [
    "### Visualise evolution"
   ]
  },
  {
   "cell_type": "code",
   "execution_count": null,
   "id": "ed3a249b-e62f-4654-86ee-9897d4125c81",
   "metadata": {
    "execution": {
     "iopub.execute_input": "2024-02-16T09:31:03.254539Z",
     "iopub.status.busy": "2024-02-16T09:31:03.254266Z",
     "iopub.status.idle": "2024-02-16T09:31:03.660322Z",
     "shell.execute_reply": "2024-02-16T09:31:03.658349Z",
     "shell.execute_reply.started": "2024-02-16T09:31:03.254518Z"
    },
    "tags": []
   },
   "outputs": [],
   "source": [
    "# Calculate mean, min, and max fitness for each generation\n",
    "mean_fitness = np.mean(fitness_log, axis=1)\n",
    "min_fitness = np.min(fitness_log, axis=1)\n",
    "max_fitness = np.max(fitness_log, axis=1)\n",
    "\n",
    "# Generate the generations array\n",
    "generations = np.arange(len(mean_fitness))\n",
    "\n",
    "# Plotting\n",
    "plt.figure(figsize=(10, 6))\n",
    "\n",
    "plt.annotate(\"Optimum\", xy=(0, f_reversed_ackley(0.0, 0.0)), color=\"#0193d7\")\n",
    "plt.axhline(\n",
    "    y=f_reversed_ackley(0.0, 0.0),\n",
    "    linestyle=\"dotted\",\n",
    "    linewidth=1.0,\n",
    "    alpha=0.8,\n",
    "    color=\"#0193d7\",\n",
    ")\n",
    "\n",
    "plt.plot(\n",
    "    generations,\n",
    "    mean_fitness,\n",
    "    label=\"Mean Fitness\",\n",
    "    linestyle=\"dashed\",\n",
    "    color=\"#FF0000\",\n",
    "    alpha=0.4,\n",
    ")\n",
    "plt.plot(generations, max_fitness, label=\"Max Fitness\", color=\"#B51F1F\")\n",
    "plt.plot(\n",
    "    generations,\n",
    "    min_fitness,\n",
    "    label=\"Min Fitness\",\n",
    "    linestyle=\"dashed\",\n",
    "    color=\"#ffba4d\",\n",
    "    alpha=0.4,\n",
    ")\n",
    "plt.fill_between(\n",
    "    generations,\n",
    "    min_fitness,\n",
    "    max_fitness,\n",
    "    color=\"#B51F1F\",\n",
    "    alpha=0.2,\n",
    "    label=\"Min-Max Range\",\n",
    ")\n",
    "\n",
    "plt.xlabel(\"Generation\")\n",
    "plt.ylabel(\"Fitness\")\n",
    "plt.legend()\n",
    "plt.grid(True)\n",
    "plt.show()"
   ]
  },
  {
   "cell_type": "code",
   "execution_count": null,
   "id": "660d6981-e461-498b-9872-7cd2f4642570",
   "metadata": {
    "execution": {
     "iopub.execute_input": "2024-02-16T09:31:03.661774Z",
     "iopub.status.busy": "2024-02-16T09:31:03.661506Z",
     "iopub.status.idle": "2024-02-16T09:31:34.618605Z",
     "shell.execute_reply": "2024-02-16T09:31:34.617413Z",
     "shell.execute_reply.started": "2024-02-16T09:31:03.661748Z"
    },
    "tags": []
   },
   "outputs": [],
   "source": [
    "# Function to plot the Ackley function surface\n",
    "def plot_ackley_function(ax):\n",
    "    xaxis = np.arange(-5.0, 5.0, 0.1)\n",
    "    yaxis = np.arange(-5.0, 5.0, 0.1)\n",
    "    x, y = np.meshgrid(xaxis, yaxis)\n",
    "    results = f_reversed_ackley(x, y)\n",
    "    cf = ax.contourf(xaxis, yaxis, results, levels=100, cmap=\"jet\", alpha=0.5)\n",
    "\n",
    "\n",
    "# Create a widget for displaying the plot\n",
    "image_widget = widgets.Image(format=\"png\")\n",
    "display(image_widget)\n",
    "\n",
    "\n",
    "def update_image(frame):\n",
    "    fig = plt.figure()\n",
    "    ax = fig.add_subplot(111, projection=\"3d\")\n",
    "    ax.patch.set_facecolor(\"white\")\n",
    "    plot_ackley_function(ax)\n",
    "    generation = population_log[frame]\n",
    "    fitness = fitness_log[frame]\n",
    "    best_member_index = np.argmax(fitness)\n",
    "    best_member = generation[best_member_index]\n",
    "    ax.scatter(\n",
    "        generation[:, 0], generation[:, 1], fitness, c=\"blue\", marker=\"o\", alpha=0.4\n",
    "    )\n",
    "    ax.scatter(\n",
    "        best_member[0], best_member[1], fitness[best_member_index], c=\"red\", marker=\"o\"\n",
    "    )\n",
    "    ax.text2D(0.05, 0.95, f\"Generation: {frame}\", transform=ax.transAxes)\n",
    "    ax.set_xlabel(\"X axis\")\n",
    "    ax.set_ylabel(\"Y axis\")\n",
    "    ax.set_zlabel(\"Fitness\")\n",
    "\n",
    "    with BytesIO() as output:\n",
    "        fig.savefig(output, format=\"png\")\n",
    "        plt.close(fig)\n",
    "        image_data = output.getvalue()\n",
    "        image_widget.value = image_data\n",
    "\n",
    "\n",
    "# Run and update plot for each generation\n",
    "for gen in range(num_generations):\n",
    "    update_image(gen)\n",
    "    clear_output(wait=True)"
   ]
  },
  {
   "cell_type": "code",
   "execution_count": null,
   "id": "5ad7c00b-200c-4fee-93b4-1e126646d9f6",
   "metadata": {
    "execution": {
     "iopub.execute_input": "2024-02-16T09:31:34.620369Z",
     "iopub.status.busy": "2024-02-16T09:31:34.619948Z",
     "iopub.status.idle": "2024-02-16T09:31:52.507015Z",
     "shell.execute_reply": "2024-02-16T09:31:52.505906Z",
     "shell.execute_reply.started": "2024-02-16T09:31:34.620335Z"
    },
    "tags": []
   },
   "outputs": [],
   "source": [
    "# Function to create a 2D plot of the population\n",
    "def plot_population_2d(ax, generation, fitness):\n",
    "    # Plotting the reversed Ackley function as a background\n",
    "    xaxis = np.arange(-5.0, 5.0, 0.1)\n",
    "    yaxis = np.arange(-5.0, 5.0, 0.1)\n",
    "    x, y = np.meshgrid(xaxis, yaxis)\n",
    "    results = f_reversed_ackley(x, y)\n",
    "    cf = ax.contourf(xaxis, yaxis, results, levels=100, cmap=\"jet\")\n",
    "\n",
    "    # Normalize fitness values for consistent coloring\n",
    "    norm = Normalize(vmin=np.min(results), vmax=np.max(results))\n",
    "    colors = plt.cm.jet(norm(fitness))\n",
    "\n",
    "    # Plotting the population\n",
    "    ax.scatter(generation[:, 0], generation[:, 1], color=colors, edgecolor=\"k\")\n",
    "    return cf\n",
    "\n",
    "\n",
    "# Create a widget for displaying the 2D plot\n",
    "image_widget_2d = widgets.Image(format=\"png\")\n",
    "display(image_widget_2d)\n",
    "\n",
    "\n",
    "def update_image_2d(frame):\n",
    "    fig, ax = plt.subplots()\n",
    "    generation = population_log[frame]\n",
    "    fitness = fitness_log[frame]\n",
    "    cf = plot_population_2d(ax, generation, fitness)\n",
    "    ax.set_xlabel(\"X\")\n",
    "    ax.set_ylabel(\"Y\")\n",
    "    ax.set_title(f\"Generation: {frame}\")\n",
    "\n",
    "    with BytesIO() as output:\n",
    "        fig.colorbar(cf, ax=ax)\n",
    "        fig.savefig(output, format=\"png\")\n",
    "        plt.close(fig)\n",
    "        image_data = output.getvalue()\n",
    "        image_widget_2d.value = image_data\n",
    "\n",
    "\n",
    "# Run and update plot for each generation\n",
    "for gen in range(num_generations):\n",
    "    update_image_2d(gen)\n",
    "    clear_output(wait=True)"
   ]
  }
 ],
 "metadata": {
  "kernelspec": {
   "display_name": "Python3",
   "language": "python",
   "name": "python3"
  },
  "language_info": {
   "codemirror_mode": {
    "name": "ipython",
    "version": 3
   },
   "file_extension": ".py",
   "mimetype": "text/x-python",
   "name": "python",
   "nbconvert_exporter": "python",
   "pygments_lexer": "ipython3",
   "version": "3.11.5"
  }
 },
 "nbformat": 4,
 "nbformat_minor": 5
}
